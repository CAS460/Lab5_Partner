{
 "cells": [
  {
   "cell_type": "code",
   "execution_count": 3,
   "metadata": {},
   "outputs": [
    {
     "name": "stdin",
     "output_type": "stream",
     "text": [
      "Hello! What is your name? chris\n",
      "Thank you. May we also have your age? 15\n"
     ]
    },
    {
     "name": "stdout",
     "output_type": "stream",
     "text": [
      "chris is not able to vote!!\n"
     ]
    }
   ],
   "source": [
    "#This is our Something Python Code\n",
    "\n",
    "\n",
    "name = input(\"Hello! What is your name?\")\n",
    "age = int(input(\"Thank you. May we also have your age?\"))\n",
    "\n",
    "if age < 18:\n",
    "    print(name +  \" is not able to vote!!\")\n",
    "else:\n",
    "    print(name + \" can vote!!!\")\n"
   ]
  },
  {
   "cell_type": "code",
   "execution_count": null,
   "metadata": {},
   "outputs": [],
   "source": []
  }
 ],
 "metadata": {
  "kernelspec": {
   "display_name": "Python 3",
   "language": "python",
   "name": "python3"
  },
  "language_info": {
   "codemirror_mode": {
    "name": "ipython",
    "version": 3
   },
   "file_extension": ".py",
   "mimetype": "text/x-python",
   "name": "python",
   "nbconvert_exporter": "python",
   "pygments_lexer": "ipython3",
   "version": "3.8.3"
  }
 },
 "nbformat": 4,
 "nbformat_minor": 5
}
