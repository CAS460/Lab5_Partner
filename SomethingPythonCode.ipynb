{
 "cells": [
  {
   "cell_type": "code",
   "execution_count": 1,
   "id": "1bc94bb0-ae3d-44e7-a734-7fbec4745b78",
   "metadata": {},
   "outputs": [
    {
     "name": "stdin",
     "output_type": "stream",
     "text": [
      "Hello! What is your name? Maxm\n",
      "Thank you. May we also have your age? 18\n"
     ]
    }
   ],
   "source": [
    "#This is our Something Python Code\n",
    "\n",
    "\n",
    "name = input(\"Hello! What is your name?\")\n",
    "age = input(\"Thank you. May we also have your age?\")\n",
    "\n",
    "\n"
   ]
  },
  {
   "cell_type": "code",
   "execution_count": null,
   "id": "218fe71e-a9b0-40ad-a519-59d7e957bd44",
   "metadata": {},
   "outputs": [],
   "source": []
  }
 ],
 "metadata": {
  "kernelspec": {
   "display_name": "Python 3 (ipykernel)",
   "language": "python",
   "name": "python3"
  },
  "language_info": {
   "codemirror_mode": {
    "name": "ipython",
    "version": 3
   },
   "file_extension": ".py",
   "mimetype": "text/x-python",
   "name": "python",
   "nbconvert_exporter": "python",
   "pygments_lexer": "ipython3",
   "version": "3.7.10"
  }
 },
 "nbformat": 4,
 "nbformat_minor": 5
}
