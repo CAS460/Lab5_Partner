{
 "cells": [
  {
   "cell_type": "code",
   "execution_count": 5,
   "id": "e44c0120",
   "metadata": {},
   "outputs": [
    {
     "name": "stdin",
     "output_type": "stream",
     "text": [
      "Hello! What is your name? Maxm\n",
      "Thank you. May we also have your age? 19\n"
     ]
    },
    {
     "name": "stdout",
     "output_type": "stream",
     "text": [
      "Maxm can vote!!!\n"
     ]
    }
   ],
   "source": [
    "#This is our Something Python Code\n",
    "\n",
    "\n",
    "name = input(\"Hello! What is your name?\")\n",
    "age = int(input(\"Thank you. May we also have your age?\"))\n",
    "\n",
    "if age < 18:\n",
    "    print(name +  \" is not able to vote!!\")\n",
    "else:\n",
    "    print(name + \" can vote!!!\")\n"
   ]
  },
  {
   "cell_type": "code",
   "execution_count": null,
   "id": "44be7c6f",
   "metadata": {},
   "outputs": [],
   "source": []
  }
 ],
 "metadata": {
  "kernelspec": {
   "display_name": "Python 3 (ipykernel)",
   "language": "python",
   "name": "python3"
  },
  "language_info": {
   "codemirror_mode": {
    "name": "ipython",
    "version": 3
   },
   "file_extension": ".py",
   "mimetype": "text/x-python",
   "name": "python",
   "nbconvert_exporter": "python",
   "pygments_lexer": "ipython3",
   "version": "3.7.10"
  }
 },
 "nbformat": 4,
 "nbformat_minor": 5
}
